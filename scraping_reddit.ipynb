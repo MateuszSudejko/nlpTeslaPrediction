{
 "cells": [
  {
   "cell_type": "code",
   "execution_count": 1,
   "metadata": {
    "collapsed": true,
    "ExecuteTime": {
     "end_time": "2023-05-09T16:42:41.447942545Z",
     "start_time": "2023-05-09T16:42:41.206001532Z"
    }
   },
   "outputs": [],
   "source": [
    "with open('keys.txt', 'r') as file:\n",
    "    # Read the entire contents of the file into a variable\n",
    "    file_contents = file.read()\n",
    "    keys = file_contents.split('\\n')\n",
    "\n",
    "import praw\n",
    "\n",
    "reddit = praw.Reddit(\n",
    "    client_id=keys[0],\n",
    "    client_secret=keys[1],\n",
    "    user_agent=keys[2],\n",
    "    username=keys[3],\n",
    "    password=keys[4]\n",
    ")"
   ]
  },
  {
   "cell_type": "code",
   "execution_count": 2,
   "outputs": [
    {
     "name": "stdout",
     "output_type": "stream",
     "text": [
      "Tesla Stock - What are your main questions around the stock that remain unanswered\n",
      "Do fertilizers play a role in these increasing pollen allergies? Pharmaceutical companies can make exponential seasonal revenue.\n",
      "Capital Expenditure Turmoil: Trouble plague financial investment as per the fed survey\n",
      "Thank you Su bae bae\n",
      "QQQ PUTS 2 weeks ago took some money out. Now I went from 34k to 68k\n",
      "This is the way\n",
      "$AMD $94.25 is the new floor\n",
      "Thunder calls and thunder puts?\n",
      "Sure is slippery in here\n",
      "Breaking News: SAFEBANKING Hearing to take place this Thursday May 11th! US MSOS will easily pop 50%-100% GTBIF TCNNF MSOS\n"
     ]
    }
   ],
   "source": [
    "subreddit = reddit.subreddit('wallstreetbets')\n",
    "for post in subreddit.new(limit=10):\n",
    "    print(post.title)"
   ],
   "metadata": {
    "collapsed": false,
    "ExecuteTime": {
     "end_time": "2023-05-09T16:42:42.685398066Z",
     "start_time": "2023-05-09T16:42:41.447230850Z"
    }
   }
  },
  {
   "cell_type": "code",
   "execution_count": 3,
   "outputs": [],
   "source": [
    "import spacy\n",
    "\n",
    "nlp = spacy.load(\"en_core_web_sm\")\n",
    "\n",
    "def process_text(text):\n",
    "    doc = nlp(text)\n",
    "    return doc"
   ],
   "metadata": {
    "collapsed": false,
    "ExecuteTime": {
     "end_time": "2023-05-09T16:42:43.906473706Z",
     "start_time": "2023-05-09T16:42:42.689778965Z"
    }
   }
  },
  {
   "cell_type": "code",
   "execution_count": 4,
   "outputs": [
    {
     "name": "stdout",
     "output_type": "stream",
     "text": [
      "Tesla Tesla PROPN NNP compound\n",
      "Stock Stock PROPN NNP npadvmod\n",
      "- - PUNCT : punct\n",
      "What what PRON WP attr\n",
      "are be AUX VBP ROOT\n",
      "your your PRON PRP$ poss\n",
      "main main ADJ JJ amod\n",
      "questions question NOUN NNS nsubj\n",
      "around around ADP IN prep\n",
      "the the DET DT det\n",
      "stock stock NOUN NN pobj\n",
      "that that PRON WDT nsubj\n",
      "remain remain VERB VBP relcl\n",
      "unanswered unanswered ADJ JJ acomp\n",
      "Do do AUX VB aux\n",
      "fertilizers fertilizer NOUN NNS nsubj\n",
      "play play VERB VB ROOT\n",
      "a a DET DT det\n",
      "role role NOUN NN dobj\n",
      "in in ADP IN prep\n",
      "these these DET DT det\n",
      "increasing increase VERB VBG amod\n",
      "pollen pollen NOUN NN compound\n",
      "allergies allergy NOUN NNS pobj\n",
      "? ? PUNCT . punct\n",
      "Pharmaceutical pharmaceutical ADJ JJ amod\n",
      "companies company NOUN NNS nsubj\n",
      "can can AUX MD aux\n",
      "make make VERB VB ROOT\n",
      "exponential exponential ADJ JJ amod\n",
      "seasonal seasonal ADJ JJ amod\n",
      "revenue revenue NOUN NN dobj\n",
      ". . PUNCT . punct\n",
      "Capital Capital PROPN NNP compound\n",
      "Expenditure Expenditure PROPN NNP compound\n",
      "Turmoil turmoil NOUN NN ROOT\n",
      ": : PUNCT : punct\n",
      "Trouble trouble NOUN NN nmod\n",
      "plague plague NOUN NN nmod\n",
      "financial financial ADJ JJ amod\n",
      "investment investment NOUN NN appos\n",
      "as as ADP IN prep\n",
      "per per ADP IN prep\n",
      "the the DET DT det\n",
      "fed fed PROPN NNP compound\n",
      "survey survey NOUN NN pobj\n",
      "Thank thank VERB VBP ROOT\n",
      "you you PRON PRP dobj\n",
      "Su Su PROPN NNP compound\n",
      "bae bae PROPN NNP compound\n",
      "bae bae NOUN NN npadvmod\n",
      "QQQ qqq NOUN NN compound\n",
      "PUTS PUTS PROPN NNP nsubj\n",
      "2 2 NUM CD nummod\n",
      "weeks week NOUN NNS npadvmod\n",
      "ago ago ADV RB advmod\n",
      "took take VERB VBD ROOT\n",
      "some some DET DT det\n",
      "money money NOUN NN dobj\n",
      "out out ADP RP prt\n",
      ". . PUNCT . punct\n",
      "Now now ADV RB advmod\n",
      "I I PRON PRP nsubj\n",
      "went go VERB VBD ROOT\n",
      "from from ADP IN prep\n",
      "34k 34k NUM CD pobj\n",
      "to to ADP IN prep\n",
      "68k 68k NOUN NNS pobj\n",
      "This this PRON DT nsubj\n",
      "is be AUX VBZ ROOT\n",
      "the the DET DT det\n",
      "way way NOUN NN attr\n",
      "$ $ SYM $ nmod\n",
      "AMD amd X ADD nsubj\n",
      "$ $ SYM $ nmod\n",
      "94.25 94.25 NUM CD nummod\n",
      "is be AUX VBZ ROOT\n",
      "the the DET DT det\n",
      "new new ADJ JJ amod\n",
      "floor floor NOUN NN attr\n",
      "Thunder thunder NOUN NN compound\n",
      "calls call NOUN NNS ROOT\n",
      "and and CCONJ CC cc\n",
      "thunder thunder NOUN NN compound\n",
      "puts put NOUN NNS conj\n",
      "? ? PUNCT . punct\n",
      "Sure sure INTJ UH intj\n",
      "is be AUX VBZ ROOT\n",
      "slippery slippery ADJ JJ acomp\n",
      "in in ADP IN prep\n",
      "here here ADV RB pcomp\n",
      "Breaking break VERB VBG amod\n",
      "News News PROPN NNP ROOT\n",
      ": : PUNCT : punct\n",
      "SAFEBANKING SAFEBANKING PROPN NNP compound\n",
      "Hearing hear VERB VBG nsubj\n",
      "to to PART TO aux\n",
      "take take VERB VB ROOT\n",
      "place place NOUN NN dobj\n",
      "this this DET DT det\n",
      "Thursday Thursday PROPN NNP compound\n",
      "May May PROPN NNP compound\n",
      "11th 11th NOUN NN npadvmod\n",
      "! ! PUNCT . punct\n",
      "US US PROPN NNP compound\n",
      "MSOS MSOS PROPN NNP nsubj\n",
      "will will AUX MD aux\n",
      "easily easily ADV RB advmod\n",
      "pop pop VERB VB ROOT\n",
      "50%-100 50%-100 NUM CD nummod\n",
      "% % NOUN NN compound\n",
      "GTBIF GTBIF PROPN NNP compound\n",
      "TCNNF TCNNF PROPN NNP compound\n",
      "MSOS MSOS PROPN NNP dobj\n"
     ]
    }
   ],
   "source": [
    "for post in subreddit.new(limit=10):\n",
    "    doc = process_text(post.title)\n",
    "    for token in doc:\n",
    "        print(token.text, token.lemma_, token.pos_, token.tag_, token.dep_)"
   ],
   "metadata": {
    "collapsed": false,
    "ExecuteTime": {
     "end_time": "2023-05-09T16:42:44.316951072Z",
     "start_time": "2023-05-09T16:42:43.911344866Z"
    }
   }
  }
 ],
 "metadata": {
  "kernelspec": {
   "display_name": "Python 3",
   "language": "python",
   "name": "python3"
  },
  "language_info": {
   "codemirror_mode": {
    "name": "ipython",
    "version": 2
   },
   "file_extension": ".py",
   "mimetype": "text/x-python",
   "name": "python",
   "nbconvert_exporter": "python",
   "pygments_lexer": "ipython2",
   "version": "2.7.6"
  }
 },
 "nbformat": 4,
 "nbformat_minor": 0
}
