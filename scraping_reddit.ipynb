{
 "cells": [
  {
   "cell_type": "code",
   "execution_count": 2,
   "metadata": {
    "ExecuteTime": {
     "end_time": "2023-05-19T12:23:20.121809027Z",
     "start_time": "2023-05-19T12:23:19.900652921Z"
    },
    "collapsed": true
   },
   "outputs": [],
   "source": [
    "with open('keys.txt', 'r') as file:\n",
    "    # Read the entire contents of the file into a variable\n",
    "    file_contents = file.read()\n",
    "    keys = file_contents.split('\\n')\n",
    "\n",
    "import praw\n",
    "\n",
    "reddit = praw.Reddit(\n",
    "    client_id=keys[0],\n",
    "    client_secret=keys[1],\n",
    "    user_agent=keys[2],\n",
    "    username=keys[3],\n",
    "    password=keys[4]\n",
    ")"
   ]
  },
  {
   "cell_type": "code",
   "execution_count": 3,
   "metadata": {
    "ExecuteTime": {
     "end_time": "2023-05-19T12:23:22.234267144Z",
     "start_time": "2023-05-19T12:23:20.126013594Z"
    },
    "collapsed": false
   },
   "outputs": [
    {
     "name": "stdout",
     "output_type": "stream",
     "text": [
      "Nvidia Short or Long ?\n",
      "This is what a 500% up and 500% down option looks like.\n",
      "AN: the crew is abandoning their ship\n",
      "Minnesota Governor to Sign Marijuana Legalization Bill on Tuesday\n",
      "Jeff Bezos coming in hot with the insider buy on $Amzn. One whole ass share\n",
      "Just waiting on margin to walk in\n",
      "With a pelvic thrust, I can tell you reversing Cramer 23 years ago worked and Warren Buffet is one of us.\n",
      "Had a question about shorting stocks and knowing the outcome before hand.\n",
      "😂🤣😹\n",
      "Countdown: 5 Days\n"
     ]
    }
   ],
   "source": [
    "subreddit = reddit.subreddit('wallstreetbets')\n",
    "for post in subreddit.new(limit=10):\n",
    "    print(post.title)"
   ]
  },
  {
   "cell_type": "code",
   "execution_count": 5,
   "metadata": {
    "ExecuteTime": {
     "end_time": "2023-05-19T12:23:23.612797204Z",
     "start_time": "2023-05-19T12:23:22.234963699Z"
    },
    "collapsed": false
   },
   "outputs": [],
   "source": [
    "import spacy\n",
    "\n",
    "nlp = spacy.load(\"en_core_web_sm\")"
   ]
  },
  {
   "cell_type": "code",
   "execution_count": 6,
   "metadata": {
    "ExecuteTime": {
     "end_time": "2023-05-19T12:23:24.148390941Z",
     "start_time": "2023-05-19T12:23:23.611619392Z"
    },
    "collapsed": false
   },
   "outputs": [
    {
     "name": "stdout",
     "output_type": "stream",
     "text": [
      "Nvidia Nvidia PROPN NNP compound\n",
      "Short Short PROPN NNP ROOT\n",
      "or or CCONJ CC cc\n",
      "Long long ADJ JJ conj\n",
      "? ? PUNCT . punct\n",
      "This this PRON DT nsubj\n",
      "is be AUX VBZ ROOT\n",
      "what what PRON WP det\n",
      "a a DET DT det\n",
      "500 500 NUM CD nummod\n",
      "% % NOUN NN nmod\n",
      "up up ADV RB advmod\n",
      "and and CCONJ CC cc\n",
      "500 500 NUM CD nummod\n",
      "% % NOUN NN conj\n",
      "down down NOUN NN prep\n",
      "option option NOUN NN nsubj\n",
      "looks look VERB VBZ ccomp\n",
      "like like ADP IN prep\n",
      ". . PUNCT . punct\n",
      "AN an NOUN NN meta\n",
      ": : PUNCT : punct\n",
      "the the DET DT det\n",
      "crew crew NOUN NN nsubj\n",
      "is be AUX VBZ aux\n",
      "abandoning abandon VERB VBG ROOT\n",
      "their their PRON PRP$ poss\n",
      "ship ship NOUN NN dobj\n",
      "Minnesota Minnesota PROPN NNP compound\n",
      "Governor Governor PROPN NNP ROOT\n",
      "to to PART TO aux\n",
      "Sign Sign PROPN NNP appos\n",
      "Marijuana Marijuana PROPN NNP compound\n",
      "Legalization Legalization PROPN NNP compound\n",
      "Bill Bill PROPN NNP dobj\n",
      "on on ADP IN prep\n",
      "Tuesday Tuesday PROPN NNP pobj\n",
      "Jeff Jeff PROPN NNP compound\n",
      "Bezos Bezos PROPN NNP nsubj\n",
      "coming come VERB VBG acl\n",
      "in in ADP IN prep\n",
      "hot hot ADJ JJ amod\n",
      "with with ADP IN prep\n",
      "the the DET DT det\n",
      "insider insider NOUN NN pobj\n",
      "buy buy VERB VBP ROOT\n",
      "on on ADP IN prep\n",
      "$ $ SYM $ nmod\n",
      "Amzn amzn NOUN NN pobj\n",
      ". . PUNCT . punct\n",
      "One one NUM CD nummod\n",
      "whole whole ADJ JJ amod\n",
      "ass ass NOUN NN compound\n",
      "share share NOUN NN ROOT\n",
      "Just just ADV RB advmod\n",
      "waiting wait VERB VBG ROOT\n",
      "on on ADP IN prep\n",
      "margin margin NOUN NN pobj\n",
      "to to PART TO aux\n",
      "walk walk VERB VB advcl\n",
      "in in ADV RB prep\n",
      "With with ADP IN prep\n",
      "a a DET DT det\n",
      "pelvic pelvic ADJ JJ amod\n",
      "thrust thrust NOUN NN pobj\n",
      ", , PUNCT , punct\n",
      "I I PRON PRP nsubj\n",
      "can can AUX MD aux\n",
      "tell tell VERB VB ROOT\n",
      "you you PRON PRP dobj\n",
      "reversing reverse VERB VBG xcomp\n",
      "Cramer Cramer PROPN NNP dobj\n",
      "23 23 NUM CD nummod\n",
      "years year NOUN NNS npadvmod\n",
      "ago ago ADV RB advmod\n",
      "worked work VERB VBD advcl\n",
      "and and CCONJ CC cc\n",
      "Warren Warren PROPN NNP compound\n",
      "Buffet Buffet PROPN NNP nsubj\n",
      "is be AUX VBZ ccomp\n",
      "one one NUM CD attr\n",
      "of of ADP IN prep\n",
      "us we PRON PRP pobj\n",
      ". . PUNCT . punct\n",
      "Had have VERB VBD ROOT\n",
      "a a DET DT det\n",
      "question question NOUN NN dobj\n",
      "about about ADP IN prep\n",
      "shorting short VERB VBG pcomp\n",
      "stocks stock NOUN NNS dobj\n",
      "and and CCONJ CC cc\n",
      "knowing know VERB VBG conj\n",
      "the the DET DT det\n",
      "outcome outcome NOUN NN dobj\n",
      "before before ADP IN prep\n",
      "hand hand NOUN NN pobj\n",
      ". . PUNCT . punct\n",
      "😂 😂 X XX nummod\n",
      "🤣 🤣 PROPN NNP amod\n",
      "😹 😹 NOUN NN ROOT\n",
      "Countdown countdown NOUN NN ROOT\n",
      ": : PUNCT : punct\n",
      "5 5 NUM CD nummod\n",
      "Days day NOUN NNS appos\n"
     ]
    }
   ],
   "source": [
    "for post in subreddit.new(limit=10):\n",
    "    doc = nlp(post.title)\n",
    "    for token in doc:\n",
    "        print(token.text, token.lemma_, token.pos_, token.tag_, token.dep_)"
   ]
  },
  {
   "cell_type": "code",
   "execution_count": 7,
   "metadata": {
    "ExecuteTime": {
     "end_time": "2023-05-19T12:23:24.155176177Z",
     "start_time": "2023-05-19T12:23:24.150547610Z"
    },
    "collapsed": false
   },
   "outputs": [],
   "source": [
    "def extract_stock_information(text):\n",
    "    doc = nlp(text)\n",
    "    entities = []\n",
    "    sentiments = []\n",
    "\n",
    "    for entity in doc.ents:\n",
    "        if entity.label_ == \"ORG\" and \"tesla\" in entity.text.lower():\n",
    "            entities.append(entity.text)\n",
    "\n",
    "    for sentence in doc.sents:\n",
    "        sentiment = sentence.sentiment\n",
    "        sentiments.append(sentiment)\n",
    "\n",
    "    return entities, sentiments"
   ]
  },
  {
   "cell_type": "code",
   "execution_count": 8,
   "metadata": {
    "ExecuteTime": {
     "end_time": "2023-05-19T12:23:24.671531622Z",
     "start_time": "2023-05-19T12:23:24.155667066Z"
    },
    "collapsed": false
   },
   "outputs": [],
   "source": [
    "for post in subreddit.new(limit=10):\n",
    "    entities, sentiments = extract_stock_information(post.title)\n",
    "    if entities:\n",
    "        print(\"Entities: \", entities)\n",
    "        print(\"Sentiments: \", sentiments)\n"
   ]
  },
  {
   "cell_type": "code",
   "execution_count": 10,
   "metadata": {
    "ExecuteTime": {
     "end_time": "2023-05-19T12:23:24.778603407Z",
     "start_time": "2023-05-19T12:23:24.675230007Z"
    },
    "collapsed": false
   },
   "outputs": [],
   "source": [
    "import yfinance as yf\n",
    "\n",
    "def retrieve_historical_stock_data(symbol, start_date, end_date):\n",
    "    stock_data = yf.download(symbol, start=start_date, end=end_date)\n",
    "    return stock_data"
   ]
  },
  {
   "cell_type": "code",
   "execution_count": 82,
   "metadata": {
    "ExecuteTime": {
     "end_time": "2023-05-19T12:23:25.180406985Z",
     "start_time": "2023-05-19T12:23:24.784212075Z"
    },
    "collapsed": false
   },
   "outputs": [
    {
     "name": "stdout",
     "output_type": "stream",
     "text": [
      "[*********************100%***********************]  1 of 1 completed\n"
     ]
    },
    {
     "data": {
      "text/plain": [
       "pandas._libs.tslibs.timestamps.Timestamp"
      ]
     },
     "execution_count": 82,
     "metadata": {},
     "output_type": "execute_result"
    }
   ],
   "source": [
    "import datetime as datetime\n",
    "\n",
    "symbol = \"TSLA\"\n",
    "start_date = datetime.datetime(2023, 5, 1)\n",
    "end_date = datetime.datetime(2023, 6, 1)\n",
    "\n",
    "stock_data = retrieve_historical_stock_data(symbol, start_date, end_date)\n",
    "type(stock_data.index[0])"
   ]
  },
  {
   "cell_type": "code",
   "execution_count": 110,
   "metadata": {
    "ExecuteTime": {
     "end_time": "2023-05-19T12:47:30.503230854Z",
     "start_time": "2023-05-19T12:47:28.740367737Z"
    },
    "collapsed": false
   },
   "outputs": [
    {
     "data": {
      "text/html": [
       "<div>\n",
       "<style scoped>\n",
       "    .dataframe tbody tr th:only-of-type {\n",
       "        vertical-align: middle;\n",
       "    }\n",
       "\n",
       "    .dataframe tbody tr th {\n",
       "        vertical-align: top;\n",
       "    }\n",
       "\n",
       "    .dataframe thead th {\n",
       "        text-align: right;\n",
       "    }\n",
       "</style>\n",
       "<table border=\"1\" class=\"dataframe\">\n",
       "  <thead>\n",
       "    <tr style=\"text-align: right;\">\n",
       "      <th></th>\n",
       "      <th>title</th>\n",
       "      <th>body</th>\n",
       "      <th>date</th>\n",
       "      <th>score</th>\n",
       "      <th>Date</th>\n",
       "    </tr>\n",
       "  </thead>\n",
       "  <tbody>\n",
       "    <tr>\n",
       "      <th>0</th>\n",
       "      <td>BEWARE when trading options on EBAY, NVDA or a...</td>\n",
       "      <td></td>\n",
       "      <td>1.685229e+09</td>\n",
       "      <td>11</td>\n",
       "      <td>2023-05-27</td>\n",
       "    </tr>\n",
       "    <tr>\n",
       "      <th>1</th>\n",
       "      <td>NVDA just announced a $10b stock offering. Goi...</td>\n",
       "      <td>This is classic. If there’s anything I know ab...</td>\n",
       "      <td>1.685229e+09</td>\n",
       "      <td>4</td>\n",
       "      <td>2023-05-27</td>\n",
       "    </tr>\n",
       "    <tr>\n",
       "      <th>2</th>\n",
       "      <td>Biggg Nasdaq guy over here</td>\n",
       "      <td></td>\n",
       "      <td>1.685228e+09</td>\n",
       "      <td>0</td>\n",
       "      <td>2023-05-27</td>\n",
       "    </tr>\n",
       "    <tr>\n",
       "      <th>3</th>\n",
       "      <td>Everyone has a plan.</td>\n",
       "      <td></td>\n",
       "      <td>1.685228e+09</td>\n",
       "      <td>33</td>\n",
       "      <td>2023-05-27</td>\n",
       "    </tr>\n",
       "    <tr>\n",
       "      <th>4</th>\n",
       "      <td>State Farm to stop accepting homeowners insura...</td>\n",
       "      <td>https://www.cnbc.com/2023/05/27/state-farm-to-...</td>\n",
       "      <td>1.685227e+09</td>\n",
       "      <td>0</td>\n",
       "      <td>2023-05-27</td>\n",
       "    </tr>\n",
       "  </tbody>\n",
       "</table>\n",
       "</div>"
      ],
      "text/plain": [
       "                                               title   \n",
       "0  BEWARE when trading options on EBAY, NVDA or a...  \\\n",
       "1  NVDA just announced a $10b stock offering. Goi...   \n",
       "2                         Biggg Nasdaq guy over here   \n",
       "3                               Everyone has a plan.   \n",
       "4  State Farm to stop accepting homeowners insura...   \n",
       "\n",
       "                                                body          date  score   \n",
       "0                                                     1.685229e+09     11  \\\n",
       "1  This is classic. If there’s anything I know ab...  1.685229e+09      4   \n",
       "2                                                     1.685228e+09      0   \n",
       "3                                                     1.685228e+09     33   \n",
       "4  https://www.cnbc.com/2023/05/27/state-farm-to-...  1.685227e+09      0   \n",
       "\n",
       "        Date  \n",
       "0 2023-05-27  \n",
       "1 2023-05-27  \n",
       "2 2023-05-27  \n",
       "3 2023-05-27  \n",
       "4 2023-05-27  "
      ]
     },
     "execution_count": 110,
     "metadata": {},
     "output_type": "execute_result"
    }
   ],
   "source": [
    "posts = []\n",
    "for post in subreddit.new(limit = 100):\n",
    "    # if start_date.timestamp() <= post.created_utc <= end_date.timestamp():\n",
    "    posts.append({\n",
    "        'title': post.title,\n",
    "        'body': post.selftext,\n",
    "        'date': post.created_utc,\n",
    "        'score': post.score,\n",
    "    })\n",
    "    # elif post.created_utc < start_date.timestamp():\n",
    "    #     break\n",
    "import pandas as pd\n",
    "from datetime import datetime\n",
    "\n",
    "posts_df = pd.DataFrame(posts)\n",
    "posts_df['Date'] = pd.to_datetime(posts_df['date'], unit='s').dt.strftime(\"%Y-%m-%d\")\n",
    "#posts_df = posts_df.drop('date', axis=1)\n",
    "posts_df['Date'] = pd.to_datetime(posts_df['Date'])\n",
    "posts_df.head()\n"
   ]
  },
  {
   "cell_type": "code",
   "execution_count": 111,
   "metadata": {
    "ExecuteTime": {
     "end_time": "2023-05-19T12:47:37.279370315Z",
     "start_time": "2023-05-19T12:47:37.278245966Z"
    },
    "collapsed": false
   },
   "outputs": [],
   "source": [
    "def merge_data(posts, stock_data):\n",
    "    merged_data = pd.merge(posts, stock_data, how='inner', left_on='Date', right_index=True)\n",
    "    return merged_data"
   ]
  },
  {
   "cell_type": "code",
   "execution_count": 112,
   "metadata": {
    "ExecuteTime": {
     "end_time": "2023-05-19T12:47:38.988275213Z",
     "start_time": "2023-05-19T12:47:38.880404807Z"
    },
    "collapsed": false
   },
   "outputs": [
    {
     "name": "stdout",
     "output_type": "stream",
     "text": [
      "title                object\n",
      "body                 object\n",
      "date                float64\n",
      "score                 int64\n",
      "Date         datetime64[ns]\n",
      "Open                float64\n",
      "High                float64\n",
      "Low                 float64\n",
      "Close               float64\n",
      "Adj Close           float64\n",
      "Volume                int64\n",
      "dtype: object\n"
     ]
    },
    {
     "data": {
      "text/html": [
       "<div>\n",
       "<style scoped>\n",
       "    .dataframe tbody tr th:only-of-type {\n",
       "        vertical-align: middle;\n",
       "    }\n",
       "\n",
       "    .dataframe tbody tr th {\n",
       "        vertical-align: top;\n",
       "    }\n",
       "\n",
       "    .dataframe thead th {\n",
       "        text-align: right;\n",
       "    }\n",
       "</style>\n",
       "<table border=\"1\" class=\"dataframe\">\n",
       "  <thead>\n",
       "    <tr style=\"text-align: right;\">\n",
       "      <th></th>\n",
       "      <th>title</th>\n",
       "      <th>body</th>\n",
       "      <th>date</th>\n",
       "      <th>score</th>\n",
       "      <th>Date</th>\n",
       "      <th>Open</th>\n",
       "      <th>High</th>\n",
       "      <th>Low</th>\n",
       "      <th>Close</th>\n",
       "      <th>Adj Close</th>\n",
       "      <th>Volume</th>\n",
       "    </tr>\n",
       "  </thead>\n",
       "  <tbody>\n",
       "    <tr>\n",
       "      <th>53</th>\n",
       "      <td>Wow…. Of all the times I thought I was going t...</td>\n",
       "      <td></td>\n",
       "      <td>1.685145e+09</td>\n",
       "      <td>56</td>\n",
       "      <td>2023-05-26</td>\n",
       "      <td>184.619995</td>\n",
       "      <td>198.600006</td>\n",
       "      <td>184.529999</td>\n",
       "      <td>193.169998</td>\n",
       "      <td>193.169998</td>\n",
       "      <td>161765900</td>\n",
       "    </tr>\n",
       "    <tr>\n",
       "      <th>54</th>\n",
       "      <td>Elon Musk’s Neuralink says it has received FDA...</td>\n",
       "      <td></td>\n",
       "      <td>1.685145e+09</td>\n",
       "      <td>15</td>\n",
       "      <td>2023-05-26</td>\n",
       "      <td>184.619995</td>\n",
       "      <td>198.600006</td>\n",
       "      <td>184.529999</td>\n",
       "      <td>193.169998</td>\n",
       "      <td>193.169998</td>\n",
       "      <td>161765900</td>\n",
       "    </tr>\n",
       "    <tr>\n",
       "      <th>55</th>\n",
       "      <td>Cope or Accountability?</td>\n",
       "      <td></td>\n",
       "      <td>1.685145e+09</td>\n",
       "      <td>32</td>\n",
       "      <td>2023-05-26</td>\n",
       "      <td>184.619995</td>\n",
       "      <td>198.600006</td>\n",
       "      <td>184.529999</td>\n",
       "      <td>193.169998</td>\n",
       "      <td>193.169998</td>\n",
       "      <td>161765900</td>\n",
       "    </tr>\n",
       "    <tr>\n",
       "      <th>56</th>\n",
       "      <td>The next Nvidia? Barclays analyst reveals the ...</td>\n",
       "      <td></td>\n",
       "      <td>1.685144e+09</td>\n",
       "      <td>0</td>\n",
       "      <td>2023-05-26</td>\n",
       "      <td>184.619995</td>\n",
       "      <td>198.600006</td>\n",
       "      <td>184.529999</td>\n",
       "      <td>193.169998</td>\n",
       "      <td>193.169998</td>\n",
       "      <td>161765900</td>\n",
       "    </tr>\n",
       "    <tr>\n",
       "      <th>57</th>\n",
       "      <td>NVDA short seller dinner looking delicious!</td>\n",
       "      <td></td>\n",
       "      <td>1.685144e+09</td>\n",
       "      <td>1409</td>\n",
       "      <td>2023-05-26</td>\n",
       "      <td>184.619995</td>\n",
       "      <td>198.600006</td>\n",
       "      <td>184.529999</td>\n",
       "      <td>193.169998</td>\n",
       "      <td>193.169998</td>\n",
       "      <td>161765900</td>\n",
       "    </tr>\n",
       "  </tbody>\n",
       "</table>\n",
       "</div>"
      ],
      "text/plain": [
       "                                                title body          date   \n",
       "53  Wow…. Of all the times I thought I was going t...       1.685145e+09  \\\n",
       "54  Elon Musk’s Neuralink says it has received FDA...       1.685145e+09   \n",
       "55                            Cope or Accountability?       1.685145e+09   \n",
       "56  The next Nvidia? Barclays analyst reveals the ...       1.685144e+09   \n",
       "57        NVDA short seller dinner looking delicious!       1.685144e+09   \n",
       "\n",
       "    score       Date        Open        High         Low       Close   \n",
       "53     56 2023-05-26  184.619995  198.600006  184.529999  193.169998  \\\n",
       "54     15 2023-05-26  184.619995  198.600006  184.529999  193.169998   \n",
       "55     32 2023-05-26  184.619995  198.600006  184.529999  193.169998   \n",
       "56      0 2023-05-26  184.619995  198.600006  184.529999  193.169998   \n",
       "57   1409 2023-05-26  184.619995  198.600006  184.529999  193.169998   \n",
       "\n",
       "     Adj Close     Volume  \n",
       "53  193.169998  161765900  \n",
       "54  193.169998  161765900  \n",
       "55  193.169998  161765900  \n",
       "56  193.169998  161765900  \n",
       "57  193.169998  161765900  "
      ]
     },
     "execution_count": 112,
     "metadata": {},
     "output_type": "execute_result"
    }
   ],
   "source": [
    "merged_data = merge_data(posts_df, stock_data)\n",
    "print(merged_data.dtypes)\n",
    "merged_data.head()"
   ]
  },
  {
   "cell_type": "code",
   "execution_count": 113,
   "metadata": {
    "collapsed": false
   },
   "outputs": [
    {
     "name": "stdout",
     "output_type": "stream",
     "text": [
      "    score        Open     Volume          date\n",
      "61     23  184.619995  161765900  1.685140e+09\n",
      "56      0  184.619995  161765900  1.685144e+09\n",
      "59      0  184.619995  161765900  1.685141e+09\n",
      "93   1702  184.619995  161765900  1.685114e+09\n",
      "86    129  184.619995  161765900  1.685119e+09\n",
      "61    193.169998\n",
      "56    193.169998\n",
      "59    193.169998\n",
      "93    193.169998\n",
      "86    193.169998\n",
      "Name: Close, dtype: float64\n",
      "Train Score: 1.0\n",
      "Test Score: 1.0\n"
     ]
    }
   ],
   "source": [
    "import pandas as pd\n",
    "from sklearn.model_selection import train_test_split\n",
    "from sklearn.linear_model import LinearRegression\n",
    "\n",
    "# Assume merged_data contains the merged DataFrame with Reddit posts and stock price data\n",
    "# Ensure the DataFrame has columns for 'date', 'title', 'body', 'score', 'Open', 'Close', etc.\n",
    "\n",
    "# Prepare the features and target variables\n",
    "\n",
    "features = merged_data[['score', 'Open', 'Volume', 'date']]  # Adjust the features based on your requirements\n",
    "target = merged_data['Close']  # Adjust the target variable based on your requirements\n",
    "\n",
    "# Split the data into training and testing sets\n",
    "X_train, X_test, y_train, y_test = train_test_split(features, target, test_size=0.2, random_state=42)\n",
    "\n",
    "print(X_train.head())\n",
    "print(y_train.head())\n",
    "\n",
    "# Train the linear regression model\n",
    "model = LinearRegression()\n",
    "model.fit(X_train, y_train)\n",
    "\n",
    "# Evaluate the model\n",
    "train_score = model.score(X_train, y_train)\n",
    "test_score = model.score(X_test, y_test)\n",
    "\n",
    "# Print the model performance\n",
    "print(\"Train Score:\", train_score)\n",
    "print(\"Test Score:\", test_score)"
   ]
  },
  {
   "cell_type": "code",
   "execution_count": null,
   "metadata": {
    "collapsed": false
   },
   "outputs": [],
   "source": []
  }
 ],
 "metadata": {
  "kernelspec": {
   "display_name": "Python 3",
   "language": "python",
   "name": "python3"
  },
  "language_info": {
   "codemirror_mode": {
    "name": "ipython",
    "version": 3
   },
   "file_extension": ".py",
   "mimetype": "text/x-python",
   "name": "python",
   "nbconvert_exporter": "python",
   "pygments_lexer": "ipython3",
   "version": "3.11.1"
  }
 },
 "nbformat": 4,
 "nbformat_minor": 0
}
